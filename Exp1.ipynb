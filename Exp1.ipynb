{
 "cells": [
  {
   "cell_type": "code",
   "execution_count": 1,
   "id": "c03b2cfd",
   "metadata": {},
   "outputs": [],
   "source": [
    "import cv2"
   ]
  },
  {
   "cell_type": "code",
   "execution_count": 2,
   "id": "97ac7ff0",
   "metadata": {},
   "outputs": [],
   "source": [
    "#Reading an image"
   ]
  },
  {
   "cell_type": "code",
   "execution_count": 3,
   "id": "fdaa30dc",
   "metadata": {},
   "outputs": [],
   "source": [
    "c_img=cv2.imread('flower.jpg',1)\n",
    "b_img=cv2.imread('flower.jpg',0)\n",
    "cv2.imshow('212221230083 color',c_img)\n",
    "cv2.imshow('212221230083 black',b_img)\n",
    "cv2.waitKey(0)\n",
    "cv2.destroyAllWindows()"
   ]
  },
  {
   "cell_type": "code",
   "execution_count": 4,
   "id": "8698ac90",
   "metadata": {},
   "outputs": [],
   "source": [
    "#Writing an image"
   ]
  },
  {
   "cell_type": "code",
   "execution_count": 5,
   "id": "23291152",
   "metadata": {},
   "outputs": [
    {
     "data": {
      "text/plain": [
       "True"
      ]
     },
     "execution_count": 5,
     "metadata": {},
     "output_type": "execute_result"
    }
   ],
   "source": [
    "cv2.imwrite('created.jpg',c_img)"
   ]
  },
  {
   "cell_type": "code",
   "execution_count": 6,
   "id": "fa6c9011",
   "metadata": {},
   "outputs": [],
   "source": [
    "#Shape of an image"
   ]
  },
  {
   "cell_type": "code",
   "execution_count": 7,
   "id": "f7d2d009",
   "metadata": {},
   "outputs": [
    {
     "name": "stdout",
     "output_type": "stream",
     "text": [
      "(322, 236, 3)\n"
     ]
    }
   ],
   "source": [
    "print(c_img.shape)"
   ]
  },
  {
   "cell_type": "code",
   "execution_count": 12,
   "id": "ac81a70b",
   "metadata": {},
   "outputs": [],
   "source": [
    "#To access rows and columns"
   ]
  },
  {
   "cell_type": "code",
   "execution_count": 13,
   "id": "0470fe70",
   "metadata": {},
   "outputs": [],
   "source": [
    "import random\n",
    "for i in range (100):\n",
    "    for j in range(c_img.shape[1]):\n",
    "        c_img[i][j] = [random.randint(0,255),random.randint(0,255),random.randint(0,255)]\n",
    "cv2.imshow('Part of image',c_img)\n",
    "cv2.waitKey(0)\n",
    "cv2.destroyAllWindows()\n"
   ]
  },
  {
   "cell_type": "code",
   "execution_count": 4,
   "id": "d1e9f9fb",
   "metadata": {},
   "outputs": [],
   "source": [
    "#To cut and paste the image"
   ]
  },
  {
   "cell_type": "code",
   "execution_count": 5,
   "id": "f8b008fb",
   "metadata": {},
   "outputs": [],
   "source": [
    "tag = c_img[75:100,75:100]\n",
    "c_img[20:45,20:45] = tag\n",
    "cv2.imshow('A part',c_img)\n",
    "cv2.waitKey(0)\n",
    "cv2.destroyAllWindows()\n"
   ]
  },
  {
   "cell_type": "code",
   "execution_count": null,
   "id": "2b7fe85c",
   "metadata": {},
   "outputs": [],
   "source": []
  }
 ],
 "metadata": {
  "kernelspec": {
   "display_name": "Python 3",
   "language": "python",
   "name": "python3"
  },
  "language_info": {
   "codemirror_mode": {
    "name": "ipython",
    "version": 3
   },
   "file_extension": ".py",
   "mimetype": "text/x-python",
   "name": "python",
   "nbconvert_exporter": "python",
   "pygments_lexer": "ipython3",
   "version": "3.8.8"
  }
 },
 "nbformat": 4,
 "nbformat_minor": 5
}
